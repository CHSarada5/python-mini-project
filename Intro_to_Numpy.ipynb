{
  "nbformat": 4,
  "nbformat_minor": 0,
  "metadata": {
    "colab": {
      "provenance": [],
      "authorship_tag": "ABX9TyNihfkqcYpf9a4TuSHBuiMs",
      "include_colab_link": true
    },
    "kernelspec": {
      "name": "python3",
      "display_name": "Python 3"
    },
    "language_info": {
      "name": "python"
    }
  },
  "cells": [
    {
      "cell_type": "markdown",
      "metadata": {
        "id": "view-in-github",
        "colab_type": "text"
      },
      "source": [
        "<a href=\"https://colab.research.google.com/github/CHSarada5/python-mini-project/blob/main/Intro_to_Numpy.ipynb\" target=\"_parent\"><img src=\"https://colab.research.google.com/assets/colab-badge.svg\" alt=\"Open In Colab\"/></a>"
      ]
    },
    {
      "cell_type": "code",
      "execution_count": 1,
      "metadata": {
        "id": "BGTyO1pxTvxg"
      },
      "outputs": [],
      "source": [
        "#Numpy - Numeric python\n",
        "#Most powerful package - Library\n",
        "#Numpy - Dimensions\n",
        "#A - One dimensional array\n",
        "#[A,B] || [A,B] - Two dimensional array - Row || Column\n",
        "#Three dimensional\n",
        "#Array - storing, ,anuplating, similar data type\n",
        "#Faster than any mathematical functions\n",
        "#Convinient compared to other packages\n",
        "#Memory efficiency\n",
        "#supports multi dimensinal arrays\n",
        "#speed(numpy operations)>speed(list operations)\n",
        "#size(numpy operations)<size(list operations)\n",
        "#memory optimization(numpy)>memory optimization(list operations)"
      ]
    },
    {
      "cell_type": "code",
      "source": [
        "#install numpy - pip3"
      ],
      "metadata": {
        "id": "SutcdSVhWEUq"
      },
      "execution_count": 2,
      "outputs": []
    },
    {
      "cell_type": "code",
      "source": [
        "import numpy as np"
      ],
      "metadata": {
        "id": "wUPifJVwWERR"
      },
      "execution_count": 3,
      "outputs": []
    },
    {
      "cell_type": "code",
      "source": [
        "#create a numpy array\n",
        "#1D - array\n",
        "\n",
        "arr1D=np.array([1,2,3,4,5])\n",
        "print(arr1D)"
      ],
      "metadata": {
        "colab": {
          "base_uri": "https://localhost:8080/"
        },
        "id": "3Yg1sFuzWEEU",
        "outputId": "15620189-7b3a-4eb5-91a4-72680da27691"
      },
      "execution_count": 4,
      "outputs": [
        {
          "output_type": "stream",
          "name": "stdout",
          "text": [
            "[1 2 3 4 5]\n"
          ]
        }
      ]
    },
    {
      "cell_type": "code",
      "source": [
        "#creating a 2D array\n",
        "arr2D=np.array([[1,2,3],[4,5,6]])\n",
        "print(arr2D)"
      ],
      "metadata": {
        "colab": {
          "base_uri": "https://localhost:8080/"
        },
        "id": "NyIVpwrPWDzU",
        "outputId": "b1a1f285-be86-4a3f-ce97-d0c05233f6e4"
      },
      "execution_count": 5,
      "outputs": [
        {
          "output_type": "stream",
          "name": "stdout",
          "text": [
            "[[1 2 3]\n",
            " [4 5 6]]\n"
          ]
        }
      ]
    },
    {
      "cell_type": "code",
      "source": [
        "#creating array with default values\n",
        "allZeroes=np.zeros((2,3))\n",
        "print(allZeroes)"
      ],
      "metadata": {
        "colab": {
          "base_uri": "https://localhost:8080/"
        },
        "id": "VnaOajpBWxgz",
        "outputId": "a133fe41-d648-4716-b54c-cee3c922470f"
      },
      "execution_count": 6,
      "outputs": [
        {
          "output_type": "stream",
          "name": "stdout",
          "text": [
            "[[0. 0. 0.]\n",
            " [0. 0. 0.]]\n"
          ]
        }
      ]
    },
    {
      "cell_type": "code",
      "source": [
        "#creating array with all values of element as '1'\n",
        "allOnes=np.ones((2,3))\n",
        "print(allOnes)"
      ],
      "metadata": {
        "colab": {
          "base_uri": "https://localhost:8080/"
        },
        "id": "OY3SS81JWxNI",
        "outputId": "72b58a6a-1f45-442a-9736-cf1982f27c54"
      },
      "execution_count": 7,
      "outputs": [
        {
          "output_type": "stream",
          "name": "stdout",
          "text": [
            "[[1. 1. 1.]\n",
            " [1. 1. 1.]]\n"
          ]
        }
      ]
    },
    {
      "cell_type": "code",
      "source": [
        "#creating matrix with all valiues of element as 'constant values-n-full values'\n",
        "allConstant=np.full((2,3),6)\n",
        "print(allConstant)"
      ],
      "metadata": {
        "colab": {
          "base_uri": "https://localhost:8080/"
        },
        "id": "YaYeAonGWxJu",
        "outputId": "3f933c9b-d771-43bf-b5a4-0dfdb5de2d31"
      },
      "execution_count": 8,
      "outputs": [
        {
          "output_type": "stream",
          "name": "stdout",
          "text": [
            "[[6 6 6]\n",
            " [6 6 6]]\n"
          ]
        }
      ]
    },
    {
      "cell_type": "code",
      "source": [
        "#creating identity matrix - 1\n",
        "identityMatrix=np.eye(4)\n",
        "print(identityMatrix)"
      ],
      "metadata": {
        "colab": {
          "base_uri": "https://localhost:8080/"
        },
        "id": "8iU_KQMIYM55",
        "outputId": "2dcfaa4c-3eca-459c-e414-5e26a5be5a6e"
      },
      "execution_count": 9,
      "outputs": [
        {
          "output_type": "stream",
          "name": "stdout",
          "text": [
            "[[1. 0. 0. 0.]\n",
            " [0. 1. 0. 0.]\n",
            " [0. 0. 1. 0.]\n",
            " [0. 0. 0. 1.]]\n"
          ]
        }
      ]
    },
    {
      "cell_type": "code",
      "source": [
        "#creating random matrices\n",
        "\n",
        "#with 0 and 1\n",
        "rand1=np.random.rand(3,3)\n",
        "print(rand1)\n",
        "\n",
        "#Between A and B\n",
        "rand2=np.random.randint(10,20,(3,4))\n",
        "print(rand2)"
      ],
      "metadata": {
        "colab": {
          "base_uri": "https://localhost:8080/"
        },
        "id": "rESAE-IPYMvW",
        "outputId": "8917351a-fc47-4048-a02f-073a581d746f"
      },
      "execution_count": 10,
      "outputs": [
        {
          "output_type": "stream",
          "name": "stdout",
          "text": [
            "[[0.61738603 0.76125574 0.9537451 ]\n",
            " [0.90041292 0.49017653 0.01365539]\n",
            " [0.08793653 0.47323778 0.94013468]]\n",
            "[[17 10 14 16]\n",
            " [13 15 18 16]\n",
            " [11 16 19 10]]\n"
          ]
        }
      ]
    },
    {
      "cell_type": "code",
      "source": [
        "#Array properties\n",
        "arr=np.array([[1,2,3],[4,5,6]])\n",
        "print(arr)\n",
        "\n",
        "#Shape of array\n",
        "print(f'Th shape of array is{arr.shape}')\n",
        "\n",
        "#Size of array\n",
        "print(f'The size of array is{arr.size}')\n",
        "\n",
        "#DataType of array\n",
        "print(f'The type of array is{arr.dtype}')\n",
        "\n",
        "#Dimensions of array\n",
        "print(f'The dimensions of array is{arr.ndim}')"
      ],
      "metadata": {
        "colab": {
          "base_uri": "https://localhost:8080/"
        },
        "id": "1OPkH2gRYMla",
        "outputId": "f693de42-eb2d-450e-befe-e014e7508133"
      },
      "execution_count": 11,
      "outputs": [
        {
          "output_type": "stream",
          "name": "stdout",
          "text": [
            "[[1 2 3]\n",
            " [4 5 6]]\n",
            "Th shape of array is(2, 3)\n",
            "The size of array is6\n",
            "The type of array isint64\n",
            "The dimensions of array is2\n"
          ]
        }
      ]
    },
    {
      "cell_type": "code",
      "source": [
        "#Indexing and Slicing\n",
        "\n",
        "#access the element in 1D array\n",
        "arr=np.array([1,2,3])\n",
        "print(arr)\n",
        "print(arr[1])\n",
        "\n",
        "#slicing the elements\n",
        "print(arr[2:3])\n",
        "\n",
        "#access the element in 2D array\n",
        "arr2=np.array([[1,2,3],[4,5,6]])\n",
        "print(arr2)\n",
        "print(arr2[1,1])\n",
        "print(arr2[0:1])\n",
        "print(arr2[1:0])"
      ],
      "metadata": {
        "colab": {
          "base_uri": "https://localhost:8080/"
        },
        "id": "vZepr0diYMaN",
        "outputId": "094c1059-aa30-45dd-81ca-af6d3076b3a5"
      },
      "execution_count": 12,
      "outputs": [
        {
          "output_type": "stream",
          "name": "stdout",
          "text": [
            "[1 2 3]\n",
            "2\n",
            "[3]\n",
            "[[1 2 3]\n",
            " [4 5 6]]\n",
            "5\n",
            "[[1 2 3]]\n",
            "[]\n"
          ]
        }
      ]
    },
    {
      "cell_type": "code",
      "source": [
        "#l1=[]\n",
        "#l1.append(_) for _ in range[10]\n",
        "\n",
        "l1=np.arange(0,10)\n",
        "\n",
        "print(l1)"
      ],
      "metadata": {
        "colab": {
          "base_uri": "https://localhost:8080/"
        },
        "id": "_Gmp50zEYMMK",
        "outputId": "25440178-c4eb-4492-e652-19b52ca5e1ab"
      },
      "execution_count": 13,
      "outputs": [
        {
          "output_type": "stream",
          "name": "stdout",
          "text": [
            "[0 1 2 3 4 5 6 7 8 9]\n"
          ]
        }
      ]
    },
    {
      "cell_type": "code",
      "source": [
        "#Mathematical operations\n",
        "\n",
        "a=np.array([1,2,3])\n",
        "b=np.array([3,4,5])\n",
        "print(f'The sum of a and b is{a+b}')\n",
        "print(f'The difference of a and b is{a-b}')\n",
        "print(f'The product of a and b is{a*b}')\n",
        "print(f'The division of a and b is{a/b}')"
      ],
      "metadata": {
        "colab": {
          "base_uri": "https://localhost:8080/"
        },
        "id": "R8MAek91clbF",
        "outputId": "da43320a-894f-45a4-ca8e-01138a489901"
      },
      "execution_count": 14,
      "outputs": [
        {
          "output_type": "stream",
          "name": "stdout",
          "text": [
            "The sum of a and b is[4 6 8]\n",
            "The difference of a and b is[-2 -2 -2]\n",
            "The product of a and b is[ 3  8 15]\n",
            "The division of a and b is[0.33333333 0.5        0.6       ]\n"
          ]
        }
      ]
    },
    {
      "cell_type": "code",
      "source": [
        "#Matrix multiplication\n",
        "b1=np.array([[1,2,3],[2,3,4]])\n",
        "b2=np.array([[5,6],[7,8],[1,3]])\n",
        "c=np.dot(b1,b2)\n",
        "print(c)"
      ],
      "metadata": {
        "colab": {
          "base_uri": "https://localhost:8080/"
        },
        "id": "0drh6x9tclUB",
        "outputId": "8f80162e-c260-4e8a-a471-83e2f30f26d8"
      },
      "execution_count": 15,
      "outputs": [
        {
          "output_type": "stream",
          "name": "stdout",
          "text": [
            "[[22 31]\n",
            " [35 48]]\n"
          ]
        }
      ]
    },
    {
      "cell_type": "code",
      "source": [
        "print(b1)"
      ],
      "metadata": {
        "colab": {
          "base_uri": "https://localhost:8080/"
        },
        "id": "VfJRiA1xckvi",
        "outputId": "60ae0c18-f0fa-4382-b9bb-939ce7391730"
      },
      "execution_count": 16,
      "outputs": [
        {
          "output_type": "stream",
          "name": "stdout",
          "text": [
            "[[1 2 3]\n",
            " [2 3 4]]\n"
          ]
        }
      ]
    },
    {
      "cell_type": "code",
      "source": [
        "print(b2)"
      ],
      "metadata": {
        "colab": {
          "base_uri": "https://localhost:8080/"
        },
        "id": "PEzjp4eJedRJ",
        "outputId": "62ef6b44-62e8-40f7-a63d-9d0bfe18745e"
      },
      "execution_count": 17,
      "outputs": [
        {
          "output_type": "stream",
          "name": "stdout",
          "text": [
            "[[5 6]\n",
            " [7 8]\n",
            " [1 3]]\n"
          ]
        }
      ]
    },
    {
      "cell_type": "code",
      "source": [
        "import numpy as np"
      ],
      "metadata": {
        "id": "WAnd5qfD0muF"
      },
      "execution_count": 18,
      "outputs": []
    },
    {
      "cell_type": "code",
      "source": [
        "#Recap\n",
        "arr=np.array([[1,2,3],[4,5,6]])\n",
        "\n",
        "type(arr)\n",
        "#Dot product - mxn || nxp\n",
        "arr1=np.eye(2)\n",
        "\n",
        "print(arr)\n",
        "print(arr1)"
      ],
      "metadata": {
        "colab": {
          "base_uri": "https://localhost:8080/"
        },
        "id": "7X7whMPf0mqg",
        "outputId": "4c94b8aa-1f95-430c-f28a-c7f0b75119a9"
      },
      "execution_count": 23,
      "outputs": [
        {
          "output_type": "stream",
          "name": "stdout",
          "text": [
            "[[1 2 3]\n",
            " [4 5 6]]\n",
            "[[1. 0.]\n",
            " [0. 1.]]\n"
          ]
        }
      ]
    },
    {
      "cell_type": "code",
      "source": [
        "arr1.shape"
      ],
      "metadata": {
        "colab": {
          "base_uri": "https://localhost:8080/"
        },
        "id": "EBjzaKHb0mfe",
        "outputId": "061a57cc-9f9a-4dc8-c731-f6c370518fc4"
      },
      "execution_count": 24,
      "outputs": [
        {
          "output_type": "execute_result",
          "data": {
            "text/plain": [
              "(2, 2)"
            ]
          },
          "metadata": {},
          "execution_count": 24
        }
      ]
    },
    {
      "cell_type": "code",
      "source": [
        "result=np.dot(arr1,arr)\n",
        "print(result)"
      ],
      "metadata": {
        "colab": {
          "base_uri": "https://localhost:8080/"
        },
        "id": "4qa8AQpx0ma2",
        "outputId": "a6792ec7-6850-4b4c-8243-c2ccb885d280"
      },
      "execution_count": 26,
      "outputs": [
        {
          "output_type": "stream",
          "name": "stdout",
          "text": [
            "[[1. 2. 3.]\n",
            " [4. 5. 6.]]\n"
          ]
        }
      ]
    },
    {
      "cell_type": "code",
      "source": [
        "r1=np.random.randint(10,20,(3,3))\n",
        "print(r1)"
      ],
      "metadata": {
        "colab": {
          "base_uri": "https://localhost:8080/"
        },
        "id": "r-ttEf1N0mOH",
        "outputId": "eded1d61-c5b0-4ff6-91b0-a69613d18f85"
      },
      "execution_count": 27,
      "outputs": [
        {
          "output_type": "stream",
          "name": "stdout",
          "text": [
            "[[14 19 12]\n",
            " [10 10 10]\n",
            " [17 18 19]]\n"
          ]
        }
      ]
    },
    {
      "cell_type": "code",
      "source": [
        "r2=np.eye(3)\n",
        "print(r2)"
      ],
      "metadata": {
        "colab": {
          "base_uri": "https://localhost:8080/"
        },
        "id": "NXPLg5lG0mAu",
        "outputId": "98672835-3adc-47ff-d645-8fe0ebad26d8"
      },
      "execution_count": 28,
      "outputs": [
        {
          "output_type": "stream",
          "name": "stdout",
          "text": [
            "[[1. 0. 0.]\n",
            " [0. 1. 0.]\n",
            " [0. 0. 1.]]\n"
          ]
        }
      ]
    },
    {
      "cell_type": "code",
      "source": [
        "result2=np.dot(r2,r1)\n",
        "print(result2)"
      ],
      "metadata": {
        "colab": {
          "base_uri": "https://localhost:8080/"
        },
        "id": "X1WkmcPC0lsf",
        "outputId": "ac8e4780-4106-4fb5-c8ac-41f8874d0c20"
      },
      "execution_count": 29,
      "outputs": [
        {
          "output_type": "stream",
          "name": "stdout",
          "text": [
            "[[14. 19. 12.]\n",
            " [10. 10. 10.]\n",
            " [17. 18. 19.]]\n"
          ]
        }
      ]
    },
    {
      "cell_type": "code",
      "source": [
        "t1=np.random.randint(3,6,(3,3))\n",
        "t2=np.random.randint(3,6,(3,3))"
      ],
      "metadata": {
        "id": "TZdM9iKj0lpG"
      },
      "execution_count": 30,
      "outputs": []
    },
    {
      "cell_type": "code",
      "source": [
        "print(t1)\n",
        "print(t2)"
      ],
      "metadata": {
        "colab": {
          "base_uri": "https://localhost:8080/"
        },
        "id": "PKTdEq3828rM",
        "outputId": "f8c03a6c-74d9-49ed-bc30-fe7451484439"
      },
      "execution_count": 31,
      "outputs": [
        {
          "output_type": "stream",
          "name": "stdout",
          "text": [
            "[[5 5 3]\n",
            " [3 3 5]\n",
            " [4 4 5]]\n",
            "[[5 3 3]\n",
            " [3 3 5]\n",
            " [3 4 4]]\n"
          ]
        }
      ]
    },
    {
      "cell_type": "code",
      "source": [
        "#statistical operations\n",
        "mean=t2.mean()\n",
        "max=t2.max()\n",
        "median=np.median(t2)\n",
        "std=np.std(t2)\n",
        "var=np.var(t2)"
      ],
      "metadata": {
        "id": "xcGbkn5F28oj"
      },
      "execution_count": 32,
      "outputs": []
    },
    {
      "cell_type": "code",
      "source": [
        "print(mean)\n",
        "print(max)\n",
        "print(median)\n",
        "print(std)\n",
        "print(var)\n",
        "print(std*std)"
      ],
      "metadata": {
        "colab": {
          "base_uri": "https://localhost:8080/"
        },
        "id": "Fa358H0N28ly",
        "outputId": "9d1185fc-fb2e-4418-c921-dd7546df0031"
      },
      "execution_count": 34,
      "outputs": [
        {
          "output_type": "stream",
          "name": "stdout",
          "text": [
            "3.6666666666666665\n",
            "5\n",
            "3.0\n",
            "0.816496580927726\n",
            "0.6666666666666666\n",
            "0.6666666666666666\n"
          ]
        }
      ]
    },
    {
      "cell_type": "code",
      "source": [
        "#Trignometric functions\n",
        "#sin(x),cos(x),tan(x),cot(x),cosec(x),sec(x)\n",
        "angles=np.array([0,15,30,45,60,75,90])\n",
        "result=np.sin(np.radians(angles))\n",
        "result1=np.cos(np.radians(angles))\n",
        "result2=np.tan(np.radians(angles))"
      ],
      "metadata": {
        "id": "22fJ98E734ka"
      },
      "execution_count": 38,
      "outputs": []
    },
    {
      "cell_type": "code",
      "source": [
        "print(angles)"
      ],
      "metadata": {
        "colab": {
          "base_uri": "https://localhost:8080/"
        },
        "id": "8GF78KaD6eN2",
        "outputId": "1b648a95-9226-42c1-d153-22be88d9c56d"
      },
      "execution_count": 39,
      "outputs": [
        {
          "output_type": "stream",
          "name": "stdout",
          "text": [
            "[ 0 15 30 45 60 75 90]\n"
          ]
        }
      ]
    },
    {
      "cell_type": "code",
      "source": [
        "print(result)"
      ],
      "metadata": {
        "colab": {
          "base_uri": "https://localhost:8080/"
        },
        "id": "bLPqnQ916eAD",
        "outputId": "3fa1063e-79e4-4e3d-a256-9ff5c54f28d0"
      },
      "execution_count": 40,
      "outputs": [
        {
          "output_type": "stream",
          "name": "stdout",
          "text": [
            "[0.         0.25881905 0.5        0.70710678 0.8660254  0.96592583\n",
            " 1.        ]\n"
          ]
        }
      ]
    },
    {
      "cell_type": "code",
      "source": [
        "print(result1)"
      ],
      "metadata": {
        "colab": {
          "base_uri": "https://localhost:8080/"
        },
        "id": "p3AmumGv6dZw",
        "outputId": "cf0e4a02-3ce7-4527-ba38-6be02050e68b"
      },
      "execution_count": 43,
      "outputs": [
        {
          "output_type": "stream",
          "name": "stdout",
          "text": [
            "[1.00000000e+00 9.65925826e-01 8.66025404e-01 7.07106781e-01\n",
            " 5.00000000e-01 2.58819045e-01 6.12323400e-17]\n"
          ]
        }
      ]
    },
    {
      "cell_type": "code",
      "source": [
        "print(result2)"
      ],
      "metadata": {
        "colab": {
          "base_uri": "https://localhost:8080/"
        },
        "id": "iIdYl-Nz6dHk",
        "outputId": "d6073b9c-6dc5-408d-aab5-44c832c9308d"
      },
      "execution_count": 42,
      "outputs": [
        {
          "output_type": "stream",
          "name": "stdout",
          "text": [
            "[0.00000000e+00 2.67949192e-01 5.77350269e-01 1.00000000e+00\n",
            " 1.73205081e+00 3.73205081e+00 1.63312394e+16]\n"
          ]
        }
      ]
    },
    {
      "cell_type": "code",
      "source": [
        "arr=np.array([1,2,3,4,5,6])\n",
        "#Reshape the array\n",
        "reshapearr=arr.reshape(2,3)\n",
        "print(reshapearr)\n",
        "#to convert/flatten any n dim array\n",
        "flattenedarr=arr.flatten()\n",
        "print(flattenedarr)"
      ],
      "metadata": {
        "colab": {
          "base_uri": "https://localhost:8080/"
        },
        "id": "NQ6Kd4E834Ry",
        "outputId": "62100a09-556a-4900-9bec-4e9e4616650f"
      },
      "execution_count": 44,
      "outputs": [
        {
          "output_type": "stream",
          "name": "stdout",
          "text": [
            "[[1 2 3]\n",
            " [4 5 6]]\n",
            "[1 2 3 4 5 6]\n"
          ]
        }
      ]
    },
    {
      "cell_type": "code",
      "source": [
        "#stacking the data\n",
        "arr1=np.array([1,2,3,4])\n",
        "arr2=np.array([10,20,30,40])\n",
        "\n",
        "#vertical stacking\n",
        "arr3=np.vstack((arr1,arr2))\n",
        "print(f\"The shape of arr3 isd {arr3.shape}\")\n",
        "print(arr3)\n",
        "\n",
        "#horizontal stacking\n",
        "arr4=np.hstack((arr1,arr2))\n",
        "print(f\"The shape of arr3 is {arr3.shape}\")\n",
        "print(arr4)"
      ],
      "metadata": {
        "colab": {
          "base_uri": "https://localhost:8080/"
        },
        "id": "dr5XjWPQ34OX",
        "outputId": "21c26ed7-d8f5-4e65-bf20-ca3705bbe470"
      },
      "execution_count": 46,
      "outputs": [
        {
          "output_type": "stream",
          "name": "stdout",
          "text": [
            "The shape of arr3 isd (2, 4)\n",
            "[[ 1  2  3  4]\n",
            " [10 20 30 40]]\n",
            "The shape of arr3 is (2, 4)\n",
            "[ 1  2  3  4 10 20 30 40]\n"
          ]
        }
      ]
    },
    {
      "cell_type": "code",
      "source": [
        "#filtering\n",
        "arr=np.array([10,20,30,40,50,60,70,80])\n",
        "\n",
        "farr=arr[arr>40]\n",
        "print(farr)"
      ],
      "metadata": {
        "colab": {
          "base_uri": "https://localhost:8080/"
        },
        "id": "xu-lmHcg71Es",
        "outputId": "2424b584-524e-47d2-cac4-274faddec020"
      },
      "execution_count": 48,
      "outputs": [
        {
          "output_type": "stream",
          "name": "stdout",
          "text": [
            "[50 60 70 80]\n"
          ]
        }
      ]
    }
  ]
}